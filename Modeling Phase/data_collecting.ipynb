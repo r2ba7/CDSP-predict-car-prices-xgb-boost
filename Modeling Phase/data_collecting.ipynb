{
 "cells": [
  {
   "cell_type": "code",
   "execution_count": 1,
   "metadata": {},
   "outputs": [
    {
     "name": "stderr",
     "output_type": "stream",
     "text": [
      "c:\\Users\\abdel\\AppData\\Local\\Programs\\Python\\Python38\\lib\\site-packages\\tqdm\\auto.py:22: TqdmWarning: IProgress not found. Please update jupyter and ipywidgets. See https://ipywidgets.readthedocs.io/en/stable/user_install.html\n",
      "  from .autonotebook import tqdm as notebook_tqdm\n"
     ]
    }
   ],
   "source": [
    "from preprocessing import *\n",
    "import warnings\n",
    "warnings.filterwarnings('ignore')\n",
    "%matplotlib inline"
   ]
  },
  {
   "cell_type": "code",
   "execution_count": 4,
   "metadata": {},
   "outputs": [],
   "source": [
    "df = pd.read_csv('Car details v3.csv')"
   ]
  },
  {
   "cell_type": "markdown",
   "metadata": {},
   "source": [
    "#### Here, we cleaned and preprocessed the data to avoid any error for EDA and training and added few features."
   ]
  },
  {
   "cell_type": "code",
   "execution_count": 5,
   "metadata": {},
   "outputs": [],
   "source": [
    "df['torque'] = df['torque'].apply(lambda x: adjust_typo_torque(x))\n",
    "df[['torque_unit', 'torque_rpm']] = df['torque'].str.split('@', 1, expand=True)\n",
    "df['torque_unit'] = df['torque_unit'].apply(lambda x: adjust_units_torque(x))\n",
    "df['torque_rpm'] = df['torque_rpm'].apply(lambda x: adjust_rpm_torque(x))\n",
    "df['cars_age'] = date.today().year - df['year']\n",
    "df.drop(columns=['torque', 'year'], inplace=True)\n",
    "df = preprocess_cols(df)\n",
    "df = df[df.groupby('name').name.transform('count')>20].copy()"
   ]
  },
  {
   "cell_type": "code",
   "execution_count": 6,
   "metadata": {},
   "outputs": [],
   "source": [
    "df.to_csv('cars.csv', sep=',', encoding='utf-8', index=False)"
   ]
  },
  {
   "cell_type": "markdown",
   "metadata": {},
   "source": [
    "## From the data, it's indicated that the data is all about cars selling, along with their consumption.\n",
    "##### name: The manufacturer + the model, we dropped the model and only cared about the trademark\n",
    "##### year: the year this car was sold I guess \n",
    "##### km_driven: kilometers driven\n",
    "##### fuel: type of consumed fuel\n",
    "##### seller_type: whether was a normal citizen or a dealer etc..\n",
    "##### transmission: either manual or automatic\n",
    "##### owner: how many owners owned this car\n",
    "##### mileage: number of miles travelled or covered, it will be dropped since it doesn't affect the covariance\n",
    "##### engine: Engine Displacement, or engine capacity is a measurement of engine displacement in cubic capacity\n",
    "##### max_power: power in horse powers\n",
    "##### torque: In simple terms, the definition of torque is the engine's rotational force, Nm is Newton x meters, kgm is kilogram x meter, rpm is revolutions per minutes\n",
    "##### seats: number of seats"
   ]
  }
 ],
 "metadata": {
  "interpreter": {
   "hash": "2aafef98629c34f0dd50f1e4184df7f72eab5dbaa033abb9f1368f15b17f95fe"
  },
  "kernelspec": {
   "display_name": "Python 3.8.8 64-bit",
   "language": "python",
   "name": "python3"
  },
  "language_info": {
   "codemirror_mode": {
    "name": "ipython",
    "version": 3
   },
   "file_extension": ".py",
   "mimetype": "text/x-python",
   "name": "python",
   "nbconvert_exporter": "python",
   "pygments_lexer": "ipython3",
   "version": "3.8.8"
  },
  "orig_nbformat": 4
 },
 "nbformat": 4,
 "nbformat_minor": 2
}
